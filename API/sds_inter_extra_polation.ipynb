{
 "cells": [
  {
   "cell_type": "markdown",
   "metadata": {},
   "source": [
    "OSIsoft Cloud Services interpolation and extrapolation example with stream views"
   ]
  },
  {
   "cell_type": "markdown",
   "metadata": {},
   "source": [
    "Requirements:\n",
    "1. Juptyer notebook or lab\n",
    "2. Python\n",
    "3. ocs_sample_library\n",
    "   https://github.com/osisoft/OSI-Samples/tree/master/ocs_samples/library_samples/Python3\n",
    "   Note: this notebook uses a customized version of the Python library, some of these features are not yet in the github library.\n",
    "4. config.ini configured for your OSIsoft Cloud Services environment\n",
    "   https://github.com/osisoft/OSI-Samples/tree/master/ocs_samples/basic_samples/SDS/Python/SDSPy/Python3\n",
    "5. Familiarity with namespaces, types and streams,  see https://cloud.osisoft.com\n",
    "\n",
    "Objectives:\n",
    "1. Create types, stream, stream views\n",
    "2. Use the stream views to show interpolation and extrapolation"
   ]
  },
  {
   "cell_type": "code",
   "execution_count": 46,
   "metadata": {},
   "outputs": [],
   "source": [
    "# setup the environment\n",
    "\n",
    "import configparser\n",
    "import logging\n",
    "# For general usage when package is installed and not using customized features\n",
    "#from ocs_sample_library_preview import *\n",
    "# For testing/running modified github version\n",
    "from OSI_Samples.ocs_samples.library_samples.Python3.ocs_sample_library_preview import *\n",
    "import json\n",
    "import datetime\n",
    "import matplotlib.pyplot as plt\n",
    "import seaborn as sns\n",
    "sns.set(color_codes=True)\n",
    "import pandas as pd\n",
    "import logging\n",
    "\n",
    "logger = logging.getLogger()\n",
    "logger.setLevel(logging.CRITICAL)\n",
    "\n",
    "# Read the configuration informatation for your OSIsoft Cloud Services acccount from config.ini\n",
    "\n",
    "config = configparser.ConfigParser()\n",
    "config.read('config.ini')\n",
    "\n",
    "ocsClient = OCSClient(config.get('Access', 'ApiVersion'), config.get('Access', 'Tenant'), config.get('Access', 'Resource'), \n",
    "                        config.get('Credentials', 'ClientId'), config.get('Credentials', 'ClientSecret'))\n",
    "        \n",
    "namespace_id = config.get('Configurations', 'Namespace')"
   ]
  },
  {
   "cell_type": "code",
   "execution_count": 4,
   "metadata": {},
   "outputs": [],
   "source": [
    "# specify a unique prefix to create objects\n",
    "example_prefix = 'SDSPolation1.'"
   ]
  },
  {
   "cell_type": "markdown",
   "metadata": {},
   "source": [
    "Create a type"
   ]
  },
  {
   "cell_type": "code",
   "execution_count": 5,
   "metadata": {},
   "outputs": [
    {
     "name": "stdout",
     "output_type": "stream",
     "text": [
      "{\n",
      "    \"SdsTypeCode\": 1,\n",
      "    \"Properties\": [\n",
      "        {\n",
      "            \"Id\": \"timestamp\",\n",
      "            \"Description\": null,\n",
      "            \"SdsType\": {\n",
      "                \"SdsTypeCode\": 16,\n",
      "                \"Id\": null,\n",
      "                \"Name\": null,\n",
      "                \"Description\": null,\n",
      "                \"ExtrapolationMode\": null,\n",
      "                \"InterpolationMode\": null\n",
      "            },\n",
      "            \"Value\": null,\n",
      "            \"Order\": null,\n",
      "            \"IsKey\": true,\n",
      "            \"InterpolationMode\": null,\n",
      "            \"Uom\": null\n",
      "        },\n",
      "        {\n",
      "            \"Id\": \"counter\",\n",
      "            \"Description\": null,\n",
      "            \"SdsType\": {\n",
      "                \"SdsTypeCode\": 15,\n",
      "                \"Id\": null,\n",
      "                \"Name\": null,\n",
      "                \"Description\": null,\n",
      "                \"ExtrapolationMode\": null,\n",
      "                \"InterpolationMode\": null\n",
      "            },\n",
      "            \"Value\": null,\n",
      "            \"Order\": null,\n",
      "            \"IsKey\": false,\n",
      "            \"InterpolationMode\": null,\n",
      "            \"Uom\": null\n",
      "        },\n",
      "        {\n",
      "            \"Id\": \"channel\",\n",
      "            \"Description\": null,\n",
      "            \"SdsType\": {\n",
      "                \"SdsTypeCode\": 14,\n",
      "                \"Id\": null,\n",
      "                \"Name\": null,\n",
      "                \"Description\": null,\n",
      "                \"ExtrapolationMode\": null,\n",
      "                \"InterpolationMode\": null\n",
      "            },\n",
      "            \"Value\": null,\n",
      "            \"Order\": null,\n",
      "            \"IsKey\": false,\n",
      "            \"InterpolationMode\": null,\n",
      "            \"Uom\": null\n",
      "        }\n",
      "    ],\n",
      "    \"Id\": \"SDSPolation1.default\",\n",
      "    \"Name\": \"bearing_channel\",\n",
      "    \"Description\": \"bearing vibration signals\",\n",
      "    \"ExtrapolationMode\": null,\n",
      "    \"InterpolationMode\": null\n",
      "}\n"
     ]
    }
   ],
   "source": [
    "# Dictionary to describe information about the type\n",
    "thetype = {'sdstypecode': SdsTypeCode.Object, # type of SDS object\n",
    "           'id': f'{example_prefix}default', # unique identifier for the stream\n",
    "           'name': 'bearing_channel', # descritive name\n",
    "           'description': 'bearing vibration signals'}\n",
    "\n",
    "# data type\n",
    "double_type = SdsType()\n",
    "double_type.Id = \"Double\"\n",
    "double_type.SdsTypeCode = SdsTypeCode.Double\n",
    "\n",
    "# sds type property\n",
    "timestamp_property = SdsTypeProperty()\n",
    "timestamp_property.Id = \"timestamp\"\n",
    "timestamp_property.SdsType = SdsType.fromDictionary({\"SdsTypeCode\": SdsTypeCode.DateTime.value})\n",
    "timestamp_property.IsKey = True\n",
    "\n",
    "# sds type property\n",
    "counter_property = SdsTypeProperty()\n",
    "counter_property.Id = \"counter\"\n",
    "counter_property.SdsType = SdsType.fromDictionary({\"SdsTypeCode\": SdsTypeCode.Decimal.value})\n",
    "\n",
    "# sds type property\n",
    "channel_property =  SdsTypeProperty()\n",
    "channel_property.Id = \"channel\"\n",
    "channel_property.SdsType = SdsType.fromJson({\"SdsTypeCode\" : SdsTypeCode.Double.value })\n",
    "\n",
    "# sds type defintion\n",
    "bearing = SdsType()\n",
    "bearing.Id = thetype['id']\n",
    "bearing.SdsTypeCode = thetype['sdstypecode']\n",
    "bearing.Name = thetype['name']\n",
    "bearing.Description=thetype['description']\n",
    "bearing.Properties = [timestamp_property,counter_property,channel_property]\n",
    "\n",
    "# Create the type\n",
    "try:\n",
    "    bearing_type = ocsClient.Types.getOrCreateType(namespace_id, bearing)\n",
    "except:\n",
    "    bearing_type = ocsClient.Types.getType(namespace_id,bearing.Id)\n",
    "ocsClient.acceptverbosity = True  # return values that are default values. By default these are not returned\n",
    "print(json.dumps(json.loads(bearing_type.toJson()), indent=4))"
   ]
  },
  {
   "cell_type": "markdown",
   "metadata": {},
   "source": [
    "Create a second type, specifying the interpolation mode for the counter property"
   ]
  },
  {
   "cell_type": "code",
   "execution_count": 6,
   "metadata": {},
   "outputs": [
    {
     "name": "stdout",
     "output_type": "stream",
     "text": [
      "{\n",
      "    \"SdsTypeCode\": 1,\n",
      "    \"Properties\": [\n",
      "        {\n",
      "            \"Id\": \"timestamp\",\n",
      "            \"Name\": null,\n",
      "            \"Description\": null,\n",
      "            \"SdsType\": {\n",
      "                \"SdsTypeCode\": 16,\n",
      "                \"Id\": null,\n",
      "                \"Name\": null,\n",
      "                \"Description\": null,\n",
      "                \"ExtrapolationMode\": 0,\n",
      "                \"InterpolationMode\": 0\n",
      "            },\n",
      "            \"Value\": null,\n",
      "            \"Order\": 0,\n",
      "            \"IsKey\": true,\n",
      "            \"InterpolationMode\": null,\n",
      "            \"Uom\": null\n",
      "        },\n",
      "        {\n",
      "            \"Id\": \"counter\",\n",
      "            \"Name\": null,\n",
      "            \"Description\": null,\n",
      "            \"SdsType\": {\n",
      "                \"SdsTypeCode\": 15,\n",
      "                \"Id\": null,\n",
      "                \"Name\": null,\n",
      "                \"Description\": null,\n",
      "                \"ExtrapolationMode\": 0,\n",
      "                \"InterpolationMode\": 0\n",
      "            },\n",
      "            \"Value\": null,\n",
      "            \"Order\": 0,\n",
      "            \"IsKey\": false,\n",
      "            \"InterpolationMode\": 1,\n",
      "            \"Uom\": null\n",
      "        },\n",
      "        {\n",
      "            \"Id\": \"channel\",\n",
      "            \"Name\": null,\n",
      "            \"Description\": null,\n",
      "            \"SdsType\": {\n",
      "                \"SdsTypeCode\": 14,\n",
      "                \"Id\": null,\n",
      "                \"Name\": null,\n",
      "                \"Description\": null,\n",
      "                \"ExtrapolationMode\": 0,\n",
      "                \"InterpolationMode\": 0\n",
      "            },\n",
      "            \"Value\": null,\n",
      "            \"Order\": 0,\n",
      "            \"IsKey\": false,\n",
      "            \"InterpolationMode\": null,\n",
      "            \"Uom\": null\n",
      "        }\n",
      "    ],\n",
      "    \"Id\": \"SDSPolation1.1\",\n",
      "    \"Name\": \"bearing_channel\",\n",
      "    \"Description\": \"bearing vibration signals\",\n",
      "    \"ExtrapolationMode\": 0,\n",
      "    \"InterpolationMode\": 0\n",
      "}\n"
     ]
    }
   ],
   "source": [
    "# for this step we just update/add to the previous type defintion to create the new type\n",
    "\n",
    "thetype = {'sdstypecode': SdsTypeCode.Object, # type of SDS object\n",
    "           'id': f'{example_prefix}1', # unique identifier for the stream\n",
    "           'name': 'bearing_channel', # descritive name\n",
    "           'description': 'bearing vibration signals - index stepwise'}\n",
    "\n",
    "counter_property.InterpolationMode = SdsStreamMode.StepwiseContinuousLeading.value\n",
    "bearing.Id = thetype['id']\n",
    "\n",
    "try:\n",
    "    bearing_type = ocsClient.Types.getOrCreateType(namespace_id, bearing)\n",
    "except:\n",
    "    bearing_type = ocsClient.Types.getType(namespace_id,bearing.Id)\n",
    "ocsClient.acceptverbosity = True\n",
    "print(json.dumps(json.loads(bearing_type.toJson()), indent=4))"
   ]
  },
  {
   "cell_type": "markdown",
   "metadata": {},
   "source": [
    "Create a third type, specifying the extrapolation mode for the type"
   ]
  },
  {
   "cell_type": "code",
   "execution_count": 7,
   "metadata": {},
   "outputs": [
    {
     "name": "stdout",
     "output_type": "stream",
     "text": [
      "{\n",
      "    \"SdsTypeCode\": 1,\n",
      "    \"Properties\": [\n",
      "        {\n",
      "            \"Id\": \"timestamp\",\n",
      "            \"Name\": null,\n",
      "            \"Description\": null,\n",
      "            \"SdsType\": {\n",
      "                \"SdsTypeCode\": 16,\n",
      "                \"Id\": null,\n",
      "                \"Name\": null,\n",
      "                \"Description\": null,\n",
      "                \"ExtrapolationMode\": 0,\n",
      "                \"InterpolationMode\": 0\n",
      "            },\n",
      "            \"Value\": null,\n",
      "            \"Order\": 0,\n",
      "            \"IsKey\": true,\n",
      "            \"InterpolationMode\": null,\n",
      "            \"Uom\": null\n",
      "        },\n",
      "        {\n",
      "            \"Id\": \"counter\",\n",
      "            \"Name\": null,\n",
      "            \"Description\": null,\n",
      "            \"SdsType\": {\n",
      "                \"SdsTypeCode\": 15,\n",
      "                \"Id\": null,\n",
      "                \"Name\": null,\n",
      "                \"Description\": null,\n",
      "                \"ExtrapolationMode\": 0,\n",
      "                \"InterpolationMode\": 0\n",
      "            },\n",
      "            \"Value\": null,\n",
      "            \"Order\": 0,\n",
      "            \"IsKey\": false,\n",
      "            \"InterpolationMode\": 1,\n",
      "            \"Uom\": null\n",
      "        },\n",
      "        {\n",
      "            \"Id\": \"channel\",\n",
      "            \"Name\": null,\n",
      "            \"Description\": null,\n",
      "            \"SdsType\": {\n",
      "                \"SdsTypeCode\": 14,\n",
      "                \"Id\": null,\n",
      "                \"Name\": null,\n",
      "                \"Description\": null,\n",
      "                \"ExtrapolationMode\": 0,\n",
      "                \"InterpolationMode\": 0\n",
      "            },\n",
      "            \"Value\": null,\n",
      "            \"Order\": 0,\n",
      "            \"IsKey\": false,\n",
      "            \"InterpolationMode\": null,\n",
      "            \"Uom\": null\n",
      "        }\n",
      "    ],\n",
      "    \"Id\": \"SDSPolation1.2\",\n",
      "    \"Name\": \"bearing_channel\",\n",
      "    \"Description\": \"bearing vibration signals\",\n",
      "    \"ExtrapolationMode\": 1,\n",
      "    \"InterpolationMode\": 0\n",
      "}\n"
     ]
    }
   ],
   "source": [
    "# for this step we just update/add to the previous type defintion to create the new type\n",
    "\n",
    "thetype = {'sdstypecode': SdsTypeCode.Object, # type of SDS object\n",
    "           'id': f'{example_prefix}2', # unique identifier for the stream\n",
    "           'name': 'bearing_channel', # descritive name\n",
    "           'description': 'bearing vibration signals - extrapolation none'}\n",
    "\n",
    "bearing.Id = thetype['id']\n",
    "bearing.ExtrapolationMode = SdsStreamExtrapolation.Nonex.value\n",
    "\n",
    "try:\n",
    "    bearing_type = ocsClient.Types.getOrCreateType(namespace_id, bearing)\n",
    "except:\n",
    "    bearing_type = ocsClient.Types.getType(namespace_id,bearing.Id)\n",
    "ocsClient.acceptverbosity = True\n",
    "print(json.dumps(json.loads(bearing_type.toJson()), indent=4))"
   ]
  },
  {
   "cell_type": "code",
   "execution_count": 8,
   "metadata": {},
   "outputs": [],
   "source": [
    "# Create a streamview mapping from the first type created to the second type\n",
    "sds_stream_view = SdsStreamView()\n",
    "sds_stream_view.Name = f'{example_prefix}Stepwise'\n",
    "sds_stream_view.Id = f'{example_prefix}Stepwise'\n",
    "sds_stream_view.SourceTypeId = f'{example_prefix}default'  # first type created\n",
    "sds_stream_view.TargetTypeId = f'{example_prefix}1'        # second type created\n",
    "stream_view = ocsClient.Streams.getOrCreateStreamView(namespace_id,sds_stream_view)"
   ]
  },
  {
   "cell_type": "code",
   "execution_count": 9,
   "metadata": {},
   "outputs": [],
   "source": [
    "# Create a streamview mapping from the first type created to the third type\n",
    "sds_stream_view = SdsStreamView()\n",
    "sds_stream_view.Name = f'{example_prefix}ExtraNone'\n",
    "sds_stream_view.Id = f'{example_prefix}ExtraNone'\n",
    "sds_stream_view.SourceTypeId = f'{example_prefix}default' # first type created\n",
    "sds_stream_view.TargetTypeId = f'{example_prefix}2'       # third type created\n",
    "stream_view = ocsClient.Streams.getOrCreateStreamView(namespace_id,sds_stream_view)"
   ]
  },
  {
   "cell_type": "code",
   "execution_count": 10,
   "metadata": {},
   "outputs": [
    {
     "name": "stdout",
     "output_type": "stream",
     "text": [
      "id: SDSPolation1.bearing1, name: bearing1, type: SDSPolation1.default\n"
     ]
    }
   ],
   "source": [
    "# Create a stream using the first type created\n",
    "bearing = 1\n",
    "type_suffix = \"default\"\n",
    "# If you want to recreate/modify the dataset by deleting/re-creating the stream:\n",
    "# ocsClient.Streams.deleteStream(namespace_id,f'{example_prefix}bearing{bearing}')\n",
    "sds_stream = SdsStream(id=f'{example_prefix}bearing{bearing}',name=f'bearing{bearing}', description=f'Bearing {bearing} Channel 1', typeId=f'{example_prefix}{type_suffix}')\n",
    "try:\n",
    "    stream = ocsClient.Streams.getOrCreateStream(namespace_id,sds_stream)\n",
    "except:\n",
    "    stream = ocsClient.Streams.getStream(namespace_id,f'{example_prefix}bearing{bearing}')\n",
    "print(f'id: {stream.Id}, name: {stream.Name}, type: {stream.TypeId}')\n",
    "stream_id = stream.Id"
   ]
  },
  {
   "cell_type": "code",
   "execution_count": 68,
   "metadata": {},
   "outputs": [],
   "source": [
    "# create stream events\n",
    "values = [ {'timestamp': '2004-02-19T06:19:00Z', 'counter': 0, 'channel': -0.872},\n",
    "           {'timestamp': '2004-02-19T06:21:00Z', 'counter': 1, 'channel': 0.002},\n",
    "           {'timestamp': '2004-02-19T06:23:00Z', 'counter': 2, 'channel': -0.438},\n",
    "           {'timestamp': '2004-02-19T06:25:00Z', 'counter': 3, 'channel': 0.222},\n",
    "           {'timestamp': '2004-02-19T06:27:00Z', 'counter': 4, 'channel': 0.678}]\n",
    "# insert values\n",
    "try:\n",
    "    ocsClient.Streams.insertValues(namespace_id,stream_id,json.dumps(values))\n",
    "except:\n",
    "    pass"
   ]
  },
  {
   "cell_type": "code",
   "execution_count": 12,
   "metadata": {},
   "outputs": [],
   "source": [
    "# setup variables for use in queries\n",
    "start_time = '2004-02-19T06:14:00Z'\n",
    "end_time = '2004-02-19T06:30:00Z'\n",
    "start_datetime = (datetime.datetime.strptime(start_time,\"%Y-%m-%dT%H:%M:%SZ\"))\n",
    "end_datetime = (datetime.datetime.strptime(end_time,\"%Y-%m-%dT%H:%M:%SZ\"))\n",
    "# If you want to see the web request uncomment the following two lines\n",
    "#logger.setLevel(logging.DEBUG)\n",
    "#logging.debug(\"tap\")"
   ]
  },
  {
   "cell_type": "code",
   "execution_count": 67,
   "metadata": {},
   "outputs": [
    {
     "name": "stdout",
     "output_type": "stream",
     "text": [
      "                     channel  counter\n",
      "timestamp                            \n",
      "2004-02-19 06:14:00   -0.872      0.0\n",
      "2004-02-19 06:18:00   -0.872      0.0\n",
      "2004-02-19 06:22:00   -0.218      1.5\n",
      "2004-02-19 06:26:00    0.450      3.5\n",
      "2004-02-19 06:30:00    0.678      4.0\n"
     ]
    },
    {
     "data": {
      "image/png": "[encoded data removed]",
      "text/plain": [
       "<Figure size 432x288 with 1 Axes>"
      ]
     },
     "metadata": {},
     "output_type": "display_data"
    }
   ],
   "source": [
    "ocsClient.acceptverbosity = True  # return values that are default values.By default \n",
    "# these are not returned..\n",
    "# query for interpolated data using the first type created\n",
    "response = ocsClient.Streams.getRangeValuesInterpolated(namespace_id,\n",
    "                                                        stream_id=stream_id,\n",
    "                                                        value_class=None,\n",
    "                                                        start=start_datetime,\n",
    "                                                        end=end_datetime,\n",
    "                                                        count=5)\n",
    "# put it in a dataframe and display\n",
    "df_result = pd.DataFrame.from_dict(response)\n",
    "df_result['timestamp'] = pd.to_datetime(df_result['timestamp'],infer_datetime_format=True)\n",
    "df_result.set_index('timestamp', inplace=True)\n",
    "print(df_result)\n",
    "ax = sns.lineplot(data=df_result,markers=True)"
   ]
  },
  {
   "cell_type": "code",
   "execution_count": 48,
   "metadata": {},
   "outputs": [
    {
     "name": "stdout",
     "output_type": "stream",
     "text": [
      "                     channel  counter\n",
      "timestamp                            \n",
      "2004-02-19 06:14:00   -0.872      0.0\n",
      "2004-02-19 06:18:00   -0.872      0.0\n",
      "2004-02-19 06:22:00   -0.218      1.0\n",
      "2004-02-19 06:26:00    0.450      3.0\n",
      "2004-02-19 06:30:00    0.678      4.0\n"
     ]
    },
    {
     "data": {
      "image/png": "[encoded data removed]",
      "text/plain": [
       "<Figure size 432x288 with 1 Axes>"
      ]
     },
     "metadata": {},
     "output_type": "display_data"
    }
   ],
   "source": [
    "# query for an interpolated data using the stream view to map to the second type created which specifies stepwise interpolation for the counter property\n",
    "response = ocsClient.Streams.getRangeValuesInterpolated(namespace_id,\n",
    "                                                        stream_id=stream_id,\n",
    "                                                        value_class=None,\n",
    "                                                        start=start_datetime,\n",
    "                                                        end=end_datetime,\n",
    "                                                        count=5,\n",
    "                                                        stream_view_id=f'{example_prefix}Stepwise')\n",
    "# put it in a dataframe for exploring/displaying\n",
    "df_stepwise = pd.DataFrame.from_dict(response)\n",
    "df_stepwise['timestamp'] = pd.to_datetime(df_stepwise['timestamp'],infer_datetime_format=True)\n",
    "df_stepwise.set_index('timestamp', inplace=True)\n",
    "print(df_stepwise)\n",
    "ax = sns.lineplot(data=df_stepwise,markers=True)"
   ]
  },
  {
   "cell_type": "code",
   "execution_count": 66,
   "metadata": {},
   "outputs": [
    {
     "name": "stdout",
     "output_type": "stream",
     "text": [
      "                     channel  counter\n",
      "timestamp                            \n",
      "2004-02-19 06:22:00   -0.218      1.0\n",
      "2004-02-19 06:26:00    0.450      3.0\n"
     ]
    },
    {
     "data": {
      "image/png": "[encoded data removed]",
      "text/plain": [
       "<Figure size 432x288 with 1 Axes>"
      ]
     },
     "metadata": {},
     "output_type": "display_data"
    }
   ],
   "source": [
    "# query for an interpolated data using the stream view to map to the third type which specifies stepwise for counter and no extrapolation for the type\n",
    "response = ocsClient.Streams.getRangeValuesInterpolated(namespace_id,stream_id=stream_id,value_class=None,start=start_datetime,end=end_datetime,count=5,stream_view_id=f'{example_prefix}ExtraNone')\n",
    "# put it in a dataframe for exploring/displaying\n",
    "df_extranone = pd.DataFrame.from_dict(response)\n",
    "df_extranone['timestamp'] = pd.to_datetime(df_extranone['timestamp'],infer_datetime_format=True)\n",
    "df_extranone.set_index('timestamp', inplace=True)\n",
    "print(df_extranone)\n",
    "ax = sns.lineplot(data=df_extranone,markers=True)\n",
    "ax = plt.xlim(datetime.datetime(2004, 2, 19, 6, 13, 0),datetime.datetime(2004, 2, 19, 6, 31, 0))"
   ]
  },
  {
   "cell_type": "markdown",
   "metadata": {},
   "source": [
    "Summary:\n",
    "\n",
    "This is of course a contrived example....\n",
    "Ideally you would create the third type only, which included the interpolation and extrapolation required!\n",
    "\n",
    "Note that you can set interpolation and extrapolation settings:\n",
    "1. Type definiton\n",
    "    for the type\n",
    "    for the property - interpolation only\n",
    "    for the property data type - not done in this example\n",
    "2. Stream definiton\n",
    "    for the stream\n",
    "    for a stream property - interpolation only\n",
    "3. When querying using GET/read request"
   ]
  },
  {
   "cell_type": "code",
   "execution_count": null,
   "metadata": {},
   "outputs": [],
   "source": [
    "# Clean-up environment\n",
    "# does not remove stream views\n",
    "\n",
    "def cleanup(run=False):\n",
    "    if run:\n",
    "        for stream in ocsClient.Streams.getStreams(namespace_id,f'{example_prefix}*'):\n",
    "            print(f'stream id: {stream.Id}, stream name: {stream.Name}')\n",
    "            ocsClient.Streams.deleteStream(namespace_id,stream.Id)\n",
    "            try:\n",
    "                ocsClient.Types.deleteType(namespace_id,stream.TypeId)\n",
    "            except:\n",
    "                pass\n",
    "        for type in ocsClient.Types.getTypes(namespace_id,query=f'{example_prefix}*'):\n",
    "            print(f'type id: {type.Id}, type name: {type.Name}')\n",
    "            ocsClient.Types.deleteType(namespace_id,type.Id)\n",
    "            try:\n",
    "                ocsClient.Types.deleteType(namespace_id,type.TypeId)\n",
    "            except:\n",
    "                pass\n",
    "        \n",
    "# cleanup - disabled\n",
    "#cleanup(True)"
   ]
  }
 ],
 "metadata": {
  "kernelspec": {
   "display_name": "Python 3",
   "language": "python",
   "name": "python3"
  },
  "language_info": {
   "codemirror_mode": {
    "name": "ipython",
    "version": 3
   },
   "file_extension": ".py",
   "mimetype": "text/x-python",
   "name": "python",
   "nbconvert_exporter": "python",
   "pygments_lexer": "ipython3",
   "version": "3.7.0"
  }
 },
 "nbformat": 4,
 "nbformat_minor": 2
}
